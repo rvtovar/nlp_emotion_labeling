{
 "cells": [
  {
   "cell_type": "code",
   "outputs": [],
   "source": [
    "import tensorflow as tf\n",
    "import pandas as pd\n",
    "from sklearn.utils import class_weight\n",
    "from tensorflow.keras.preprocessing.text import Tokenizer\n",
    "from tensorflow.keras.preprocessing.sequence import pad_sequences\n",
    "import numpy as np\n",
    "from keras.utils import to_categorical\n",
    "from tensorflow_estimator.python.estimator import early_stopping\n",
    "\n",
    "#tf.config.set_visible_devices([], 'GPU')"
   ],
   "metadata": {
    "collapsed": false,
    "ExecuteTime": {
     "end_time": "2024-01-30T22:38:01.911345Z",
     "start_time": "2024-01-30T22:37:59.326837Z"
    }
   },
   "id": "c8acf473d2804fda",
   "execution_count": 1
  },
  {
   "cell_type": "code",
   "outputs": [],
   "source": [
    "with open('train.txt') as f:\n",
    "    train_data = f.read()\n",
    "    \n",
    "\n",
    "with open('test.txt') as f:\n",
    "    test_data = f.read()\n",
    "    \n",
    "with open('val.txt') as f:\n",
    "    val_data = f.read()"
   ],
   "metadata": {
    "collapsed": true,
    "ExecuteTime": {
     "end_time": "2024-01-30T22:38:01.920111Z",
     "start_time": "2024-01-30T22:38:01.912761Z"
    }
   },
   "id": "initial_id",
   "execution_count": 2
  },
  {
   "cell_type": "code",
   "outputs": [],
   "source": [
    "def prepare_dataset(s):\n",
    "    text_array = s.split('\\n')\n",
    "    text_list = []\n",
    "    emotion_list = []\n",
    "    \n",
    "    for item in text_array:\n",
    "        if \";\" in item:\n",
    "            text, emotion = item.split(';')\n",
    "            text_list.append(text)\n",
    "            emotion_list.append(emotion)\n",
    "    return text_list, emotion_list"
   ],
   "metadata": {
    "collapsed": false,
    "ExecuteTime": {
     "end_time": "2024-01-30T22:38:01.920700Z",
     "start_time": "2024-01-30T22:38:01.917051Z"
    }
   },
   "id": "7d63a82006d49052",
   "execution_count": 3
  },
  {
   "cell_type": "code",
   "outputs": [],
   "source": [
    "from tensorflow import keras\n",
    "from tensorflow.keras import backend as K\n",
    "\n",
    "def get_model_metrics(test_labels, preds):\n",
    "    \n",
    "    # Convert predictions to tensor\n",
    "    preds = K.constant(preds)\n",
    "    \n",
    "    # Calculate Accuracy\n",
    "    accuracy = keras.metrics.Accuracy()\n",
    "    accuracy.update_state(test_labels, preds)\n",
    "    accuracy_result = accuracy.result().numpy()\n",
    "\n",
    "    # Calculate Precision\n",
    "    precision = keras.metrics.Precision()\n",
    "    precision.update_state(test_labels, preds)\n",
    "    precision_result = precision.result().numpy()\n",
    "\n",
    "    # Calculate Recall\n",
    "    recall = keras.metrics.Recall()\n",
    "    recall.update_state(test_labels, preds)\n",
    "    recall_result = recall.result().numpy()\n",
    "\n",
    "    # Calculate F1 Score\n",
    "    if precision_result + recall_result > 0:\n",
    "        f1_score = 2 * ((precision_result * recall_result) / (precision_result + recall_result))\n",
    "    else:\n",
    "        f1_score = 0\n",
    "\n",
    "    return {\n",
    "        \"accuracy\":accuracy_result, \n",
    "        \"precision\":precision_result,\n",
    "        'recall': recall_result, \n",
    "        \"f1_score\": f1_score\n",
    "    }"
   ],
   "metadata": {
    "collapsed": false,
    "ExecuteTime": {
     "end_time": "2024-01-30T22:38:01.922347Z",
     "start_time": "2024-01-30T22:38:01.920265Z"
    }
   },
   "id": "f6e607298a32b386",
   "execution_count": 4
  },
  {
   "cell_type": "code",
   "outputs": [],
   "source": [
    "train_text, train_labels = prepare_dataset(train_data)\n",
    "test_text, test_labels = prepare_dataset(test_data)\n",
    "val_text, val_labels = prepare_dataset(val_data)"
   ],
   "metadata": {
    "collapsed": false,
    "ExecuteTime": {
     "end_time": "2024-01-30T22:38:01.930836Z",
     "start_time": "2024-01-30T22:38:01.928272Z"
    }
   },
   "id": "3dc28bee900fa3bd",
   "execution_count": 5
  },
  {
   "cell_type": "code",
   "outputs": [
    {
     "data": {
      "text/plain": "['i didnt feel humiliated',\n 'i can go from feeling so hopeless to so damned hopeful just from being around someone who cares and is awake',\n 'im grabbing a minute to post i feel greedy wrong',\n 'i am ever feeling nostalgic about the fireplace i will know that it is still on the property',\n 'i am feeling grouchy']"
     },
     "execution_count": 6,
     "metadata": {},
     "output_type": "execute_result"
    }
   ],
   "source": [
    "train_text[:5]"
   ],
   "metadata": {
    "collapsed": false,
    "ExecuteTime": {
     "end_time": "2024-01-30T22:38:01.932972Z",
     "start_time": "2024-01-30T22:38:01.931139Z"
    }
   },
   "id": "5da5edb37914ba95",
   "execution_count": 6
  },
  {
   "cell_type": "code",
   "outputs": [
    {
     "data": {
      "text/plain": "joy         5362\nsadness     4666\nanger       2159\nfear        1937\nlove        1304\nsurprise     572\nName: count, dtype: int64"
     },
     "execution_count": 7,
     "metadata": {},
     "output_type": "execute_result"
    }
   ],
   "source": [
    "pd.Series(train_labels).value_counts()"
   ],
   "metadata": {
    "collapsed": false,
    "ExecuteTime": {
     "end_time": "2024-01-30T22:38:02.711894Z",
     "start_time": "2024-01-30T22:38:02.708053Z"
    }
   },
   "id": "f317622e854bb792",
   "execution_count": 7
  },
  {
   "cell_type": "code",
   "outputs": [],
   "source": [
    "from sklearn.preprocessing import LabelEncoder\n",
    "le = LabelEncoder()\n",
    "train_labels_le = le.fit_transform(train_labels)\n",
    "val_labels_le = le.fit_transform(val_labels)\n",
    "test_labels_le = le.fit_transform(test_labels)"
   ],
   "metadata": {
    "collapsed": false,
    "ExecuteTime": {
     "end_time": "2024-01-30T22:38:03.686660Z",
     "start_time": "2024-01-30T22:38:03.654165Z"
    }
   },
   "id": "4ee9d5ab8cad9645",
   "execution_count": 8
  },
  {
   "cell_type": "code",
   "outputs": [
    {
     "data": {
      "text/plain": "2    5362\n4    4666\n0    2159\n1    1937\n3    1304\n5     572\nName: count, dtype: int64"
     },
     "execution_count": 9,
     "metadata": {},
     "output_type": "execute_result"
    }
   ],
   "source": [
    "pd.Series(train_labels_le).value_counts()"
   ],
   "metadata": {
    "collapsed": false,
    "ExecuteTime": {
     "end_time": "2024-01-30T22:38:04.596496Z",
     "start_time": "2024-01-30T22:38:04.589836Z"
    }
   },
   "id": "bc5db01a22fa99dc",
   "execution_count": 9
  },
  {
   "cell_type": "code",
   "outputs": [],
   "source": [
    "vocab_size = 1000\n",
    "embedding_dim = 16\n",
    "max_length = 120\n",
    "trunc_type='post'\n",
    "padding_type='post'\n",
    "oov_tok = \"<OOV>\"\n",
    "training_size = 20000\n",
    "\n",
    "import tensorflow as tf\n",
    "from tensorflow.keras.layers import TextVectorization\n",
    "max_vocab_length = 10000\n"
   ],
   "metadata": {
    "collapsed": false,
    "ExecuteTime": {
     "end_time": "2024-01-30T22:38:26.212788Z",
     "start_time": "2024-01-30T22:38:26.207469Z"
    }
   },
   "id": "9bfb373f0abc0765",
   "execution_count": 13
  },
  {
   "cell_type": "code",
   "outputs": [],
   "source": [
    "import os\n",
    "def create_model_checkpoint(model_name, save_path='model_experiements'):\n",
    "  return tf.keras.callbacks.ModelCheckpoint(\n",
    "      filepath=os.path.join(save_path, model_name),\n",
    "      save_best_only=True,\n",
    "      verbose=0\n",
    "  )\n",
    "# Usage:"
   ],
   "metadata": {
    "collapsed": false,
    "ExecuteTime": {
     "end_time": "2024-01-30T22:38:26.775861Z",
     "start_time": "2024-01-30T22:38:26.768250Z"
    }
   },
   "id": "b4db3ec112fda097",
   "execution_count": 14
  },
  {
   "cell_type": "code",
   "outputs": [],
   "source": [
    "tokenizer = Tokenizer(num_words=vocab_size, oov_token=oov_tok)\n",
    "tokenizer.fit_on_texts(train_text)\n",
    "word_index = tokenizer.word_index\n",
    "\n",
    "# Sequencing and Padding\n",
    "train_sequences = tokenizer.texts_to_sequences(train_text)\n",
    "train_padded = pad_sequences(train_sequences, padding=padding_type, maxlen=max_length)\n",
    "\n",
    "validation_sequences = tokenizer.texts_to_sequences(val_text)\n",
    "validation_padded = pad_sequences(validation_sequences, padding=padding_type, maxlen=max_length)\n",
    "\n",
    "test_sequences = tokenizer.texts_to_sequences(test_text)\n",
    "test_padded = pad_sequences(test_sequences, padding=padding_type, maxlen=max_length)"
   ],
   "metadata": {
    "collapsed": false,
    "ExecuteTime": {
     "end_time": "2024-01-30T22:38:27.736871Z",
     "start_time": "2024-01-30T22:38:27.452447Z"
    }
   },
   "id": "c4eb5f060fd5a36c",
   "execution_count": 15
  },
  {
   "cell_type": "code",
   "outputs": [],
   "source": [
    "train_labels = to_categorical(train_labels_le)\n",
    "val_labels = to_categorical(val_labels_le)\n",
    "test_labels = to_categorical(test_labels_le)\n"
   ],
   "metadata": {
    "collapsed": false,
    "ExecuteTime": {
     "end_time": "2024-01-30T22:38:28.644298Z",
     "start_time": "2024-01-30T22:38:28.639393Z"
    }
   },
   "id": "7f9fa7b711ce19ec",
   "execution_count": 16
  },
  {
   "cell_type": "code",
   "outputs": [
    {
     "name": "stderr",
     "output_type": "stream",
     "text": [
      "2024-01-30 17:38:29.585446: I metal_plugin/src/device/metal_device.cc:1154] Metal device set to: Apple M2 Pro\n",
      "2024-01-30 17:38:29.585467: I metal_plugin/src/device/metal_device.cc:296] systemMemory: 16.00 GB\n",
      "2024-01-30 17:38:29.585472: I metal_plugin/src/device/metal_device.cc:313] maxCacheSize: 5.33 GB\n",
      "2024-01-30 17:38:29.585508: I tensorflow/core/common_runtime/pluggable_device/pluggable_device_factory.cc:306] Could not identify NUMA node of platform GPU ID 0, defaulting to 0. Your kernel may not have been built with NUMA support.\n",
      "2024-01-30 17:38:29.585526: I tensorflow/core/common_runtime/pluggable_device/pluggable_device_factory.cc:272] Created TensorFlow device (/job:localhost/replica:0/task:0/device:GPU:0 with 0 MB memory) -> physical PluggableDevice (device: 0, name: METAL, pci bus id: <undefined>)\n"
     ]
    }
   ],
   "source": [
    "train_ds = tf.data.Dataset.from_tensor_slices(\n",
    "    (train_padded, train_labels)\n",
    ").batch(32).prefetch(tf.data.AUTOTUNE)\n",
    "\n",
    "val_ds = tf.data.Dataset.from_tensor_slices(\n",
    "    (validation_padded,val_labels)\n",
    ").batch(32).prefetch(tf.data.AUTOTUNE)\n",
    "test_ds = tf.data.Dataset.from_tensor_slices(\n",
    "    (test_padded, test_labels)\n",
    ").batch(32).prefetch(tf.data.AUTOTUNE)"
   ],
   "metadata": {
    "collapsed": false,
    "ExecuteTime": {
     "end_time": "2024-01-30T22:38:29.609621Z",
     "start_time": "2024-01-30T22:38:29.585180Z"
    }
   },
   "id": "190388972233fea4",
   "execution_count": 17
  },
  {
   "cell_type": "code",
   "outputs": [],
   "source": [
    "max_words = 10000\n",
    "embedding_dim = 64"
   ],
   "metadata": {
    "collapsed": false,
    "ExecuteTime": {
     "end_time": "2024-01-30T22:38:44.268855Z",
     "start_time": "2024-01-30T22:38:44.248984Z"
    }
   },
   "id": "b4f6f5ab25bcd8d7",
   "execution_count": 18
  },
  {
   "cell_type": "code",
   "outputs": [
    {
     "name": "stderr",
     "output_type": "stream",
     "text": [
      "2024-01-30 17:39:02.195790: I tensorflow/core/grappler/optimizers/custom_graph_optimizer_registry.cc:117] Plugin optimizer for device_type GPU is enabled.\n"
     ]
    },
    {
     "name": "stdout",
     "output_type": "stream",
     "text": [
      "INFO:tensorflow:Assets written to: model_experiements/dense_model/assets\n"
     ]
    },
    {
     "name": "stderr",
     "output_type": "stream",
     "text": [
      "INFO:tensorflow:Assets written to: model_experiements/dense_model/assets\n"
     ]
    },
    {
     "name": "stdout",
     "output_type": "stream",
     "text": [
      "INFO:tensorflow:Assets written to: model_experiements/dense_model/assets\n"
     ]
    },
    {
     "name": "stderr",
     "output_type": "stream",
     "text": [
      "INFO:tensorflow:Assets written to: model_experiements/dense_model/assets\n"
     ]
    },
    {
     "name": "stdout",
     "output_type": "stream",
     "text": [
      "INFO:tensorflow:Assets written to: model_experiements/dense_model/assets\n"
     ]
    },
    {
     "name": "stderr",
     "output_type": "stream",
     "text": [
      "INFO:tensorflow:Assets written to: model_experiements/dense_model/assets\n"
     ]
    },
    {
     "name": "stdout",
     "output_type": "stream",
     "text": [
      "INFO:tensorflow:Assets written to: model_experiements/dense_model/assets\n"
     ]
    },
    {
     "name": "stderr",
     "output_type": "stream",
     "text": [
      "INFO:tensorflow:Assets written to: model_experiements/dense_model/assets\n"
     ]
    },
    {
     "name": "stdout",
     "output_type": "stream",
     "text": [
      "INFO:tensorflow:Assets written to: model_experiements/dense_model/assets\n"
     ]
    },
    {
     "name": "stderr",
     "output_type": "stream",
     "text": [
      "INFO:tensorflow:Assets written to: model_experiements/dense_model/assets\n"
     ]
    },
    {
     "name": "stdout",
     "output_type": "stream",
     "text": [
      "INFO:tensorflow:Assets written to: model_experiements/dense_model/assets\n"
     ]
    },
    {
     "name": "stderr",
     "output_type": "stream",
     "text": [
      "INFO:tensorflow:Assets written to: model_experiements/dense_model/assets\n"
     ]
    },
    {
     "name": "stdout",
     "output_type": "stream",
     "text": [
      "INFO:tensorflow:Assets written to: model_experiements/dense_model/assets\n"
     ]
    },
    {
     "name": "stderr",
     "output_type": "stream",
     "text": [
      "INFO:tensorflow:Assets written to: model_experiements/dense_model/assets\n"
     ]
    },
    {
     "name": "stdout",
     "output_type": "stream",
     "text": [
      "INFO:tensorflow:Assets written to: model_experiements/dense_model/assets\n"
     ]
    },
    {
     "name": "stderr",
     "output_type": "stream",
     "text": [
      "INFO:tensorflow:Assets written to: model_experiements/dense_model/assets\n"
     ]
    },
    {
     "name": "stdout",
     "output_type": "stream",
     "text": [
      "INFO:tensorflow:Assets written to: model_experiements/dense_model/assets\n"
     ]
    },
    {
     "name": "stderr",
     "output_type": "stream",
     "text": [
      "INFO:tensorflow:Assets written to: model_experiements/dense_model/assets\n"
     ]
    },
    {
     "name": "stdout",
     "output_type": "stream",
     "text": [
      "INFO:tensorflow:Assets written to: model_experiements/dense_model/assets\n"
     ]
    },
    {
     "name": "stderr",
     "output_type": "stream",
     "text": [
      "INFO:tensorflow:Assets written to: model_experiements/dense_model/assets\n"
     ]
    },
    {
     "name": "stdout",
     "output_type": "stream",
     "text": [
      "INFO:tensorflow:Assets written to: model_experiements/dense_model/assets\n"
     ]
    },
    {
     "name": "stderr",
     "output_type": "stream",
     "text": [
      "INFO:tensorflow:Assets written to: model_experiements/dense_model/assets\n"
     ]
    },
    {
     "name": "stdout",
     "output_type": "stream",
     "text": [
      "INFO:tensorflow:Assets written to: model_experiements/dense_model/assets\n"
     ]
    },
    {
     "name": "stderr",
     "output_type": "stream",
     "text": [
      "INFO:tensorflow:Assets written to: model_experiements/dense_model/assets\n"
     ]
    },
    {
     "name": "stdout",
     "output_type": "stream",
     "text": [
      "INFO:tensorflow:Assets written to: model_experiements/dense_model/assets\n"
     ]
    },
    {
     "name": "stderr",
     "output_type": "stream",
     "text": [
      "INFO:tensorflow:Assets written to: model_experiements/dense_model/assets\n"
     ]
    },
    {
     "name": "stdout",
     "output_type": "stream",
     "text": [
      "INFO:tensorflow:Assets written to: model_experiements/dense_model/assets\n"
     ]
    },
    {
     "name": "stderr",
     "output_type": "stream",
     "text": [
      "INFO:tensorflow:Assets written to: model_experiements/dense_model/assets\n"
     ]
    },
    {
     "name": "stdout",
     "output_type": "stream",
     "text": [
      "INFO:tensorflow:Assets written to: model_experiements/dense_model/assets\n"
     ]
    },
    {
     "name": "stderr",
     "output_type": "stream",
     "text": [
      "INFO:tensorflow:Assets written to: model_experiements/dense_model/assets\n"
     ]
    },
    {
     "name": "stdout",
     "output_type": "stream",
     "text": [
      "INFO:tensorflow:Assets written to: model_experiements/dense_model/assets\n"
     ]
    },
    {
     "name": "stderr",
     "output_type": "stream",
     "text": [
      "INFO:tensorflow:Assets written to: model_experiements/dense_model/assets\n"
     ]
    },
    {
     "name": "stdout",
     "output_type": "stream",
     "text": [
      "INFO:tensorflow:Assets written to: model_experiements/dense_model/assets\n"
     ]
    },
    {
     "name": "stderr",
     "output_type": "stream",
     "text": [
      "INFO:tensorflow:Assets written to: model_experiements/dense_model/assets\n"
     ]
    },
    {
     "name": "stdout",
     "output_type": "stream",
     "text": [
      "INFO:tensorflow:Assets written to: model_experiements/dense_model/assets\n"
     ]
    },
    {
     "name": "stderr",
     "output_type": "stream",
     "text": [
      "INFO:tensorflow:Assets written to: model_experiements/dense_model/assets\n"
     ]
    },
    {
     "name": "stdout",
     "output_type": "stream",
     "text": [
      "INFO:tensorflow:Assets written to: model_experiements/dense_model/assets\n"
     ]
    },
    {
     "name": "stderr",
     "output_type": "stream",
     "text": [
      "INFO:tensorflow:Assets written to: model_experiements/dense_model/assets\n"
     ]
    },
    {
     "name": "stdout",
     "output_type": "stream",
     "text": [
      "INFO:tensorflow:Assets written to: model_experiements/dense_model/assets\n"
     ]
    },
    {
     "name": "stderr",
     "output_type": "stream",
     "text": [
      "INFO:tensorflow:Assets written to: model_experiements/dense_model/assets\n"
     ]
    },
    {
     "name": "stdout",
     "output_type": "stream",
     "text": [
      "INFO:tensorflow:Assets written to: model_experiements/dense_model/assets\n"
     ]
    },
    {
     "name": "stderr",
     "output_type": "stream",
     "text": [
      "INFO:tensorflow:Assets written to: model_experiements/dense_model/assets\n"
     ]
    },
    {
     "name": "stdout",
     "output_type": "stream",
     "text": [
      "INFO:tensorflow:Assets written to: model_experiements/dense_model/assets\n"
     ]
    },
    {
     "name": "stderr",
     "output_type": "stream",
     "text": [
      "INFO:tensorflow:Assets written to: model_experiements/dense_model/assets\n"
     ]
    },
    {
     "name": "stdout",
     "output_type": "stream",
     "text": [
      "INFO:tensorflow:Assets written to: model_experiements/dense_model/assets\n"
     ]
    },
    {
     "name": "stderr",
     "output_type": "stream",
     "text": [
      "INFO:tensorflow:Assets written to: model_experiements/dense_model/assets\n"
     ]
    },
    {
     "name": "stdout",
     "output_type": "stream",
     "text": [
      "INFO:tensorflow:Assets written to: model_experiements/dense_model/assets\n"
     ]
    },
    {
     "name": "stderr",
     "output_type": "stream",
     "text": [
      "INFO:tensorflow:Assets written to: model_experiements/dense_model/assets\n"
     ]
    },
    {
     "name": "stdout",
     "output_type": "stream",
     "text": [
      "INFO:tensorflow:Assets written to: model_experiements/dense_model/assets\n"
     ]
    },
    {
     "name": "stderr",
     "output_type": "stream",
     "text": [
      "INFO:tensorflow:Assets written to: model_experiements/dense_model/assets\n"
     ]
    }
   ],
   "source": [
    "from tensorflow.keras import layers\n",
    "tf.random.set_seed(42)\n",
    "from tensorflow.keras import layers\n",
    "\n",
    "inputs = layers.Input(shape=(1,))\n",
    "x = layers.Embedding(max_words, embedding_dim, input_length=120)(inputs)\n",
    "x = layers.GlobalAveragePooling1D()(x)\n",
    "outputs = layers.Dense(len(le.classes_), activation=\"softmax\")(x)\n",
    "model = tf.keras.Model(inputs, outputs, name=\"dense_model\")\n",
    "# Compile the model\n",
    "model.compile(loss='categorical_crossentropy', optimizer='adam', metrics=['accuracy'])\n",
    "\n",
    "# Train the model\n",
    "mod_1_hist = model.fit(train_ds, epochs=25, validation_data=val_ds,verbose=0,callbacks=[create_model_checkpoint(model.name)])"
   ],
   "metadata": {
    "collapsed": false,
    "ExecuteTime": {
     "end_time": "2024-01-30T22:41:38.322510Z",
     "start_time": "2024-01-30T22:39:01.974170Z"
    }
   },
   "id": "e64e895a891221e4",
   "execution_count": 19
  },
  {
   "cell_type": "code",
   "outputs": [
    {
     "data": {
      "text/plain": "[0.40992501378059387, 0.8544999957084656]"
     },
     "execution_count": 20,
     "metadata": {},
     "output_type": "execute_result"
    }
   ],
   "source": [
    "model = tf.keras.models.load_model('model_experiements/dense_model')\n",
    "model.evaluate(test_ds, verbose=0)"
   ],
   "metadata": {
    "collapsed": false,
    "ExecuteTime": {
     "end_time": "2024-01-30T22:41:44.302761Z",
     "start_time": "2024-01-30T22:41:43.400961Z"
    }
   },
   "id": "44c353d5a9107bd6",
   "execution_count": 20
  },
  {
   "cell_type": "code",
   "outputs": [
    {
     "name": "stdout",
     "output_type": "stream",
     "text": [
      "63/63 [==============================] - 0s 2ms/step\n"
     ]
    },
    {
     "data": {
      "text/plain": "{'accuracy': 0.8545,\n 'precision': 0.975,\n 'recall': 0.9721739,\n 'f1_score': 0.9735849499702454}"
     },
     "execution_count": 21,
     "metadata": {},
     "output_type": "execute_result"
    }
   ],
   "source": [
    "preds = model.predict(test_padded)\n",
    "preds = tf.cast(tf.argmax(preds, axis=1), tf.float32)\n",
    "mod_1_results = get_model_metrics(test_labels_le, preds)\n",
    "mod_1_results"
   ],
   "metadata": {
    "collapsed": false,
    "ExecuteTime": {
     "end_time": "2024-01-30T22:41:47.270049Z",
     "start_time": "2024-01-30T22:41:46.989019Z"
    }
   },
   "id": "44a280ac4fd29f7b",
   "execution_count": 21
  },
  {
   "cell_type": "code",
   "outputs": [
    {
     "name": "stdout",
     "output_type": "stream",
     "text": [
      "INFO:tensorflow:Assets written to: model_experiements/model_bidirectional/assets\n"
     ]
    },
    {
     "name": "stderr",
     "output_type": "stream",
     "text": [
      "INFO:tensorflow:Assets written to: model_experiements/model_bidirectional/assets\n"
     ]
    },
    {
     "name": "stdout",
     "output_type": "stream",
     "text": [
      "INFO:tensorflow:Assets written to: model_experiements/model_bidirectional/assets\n"
     ]
    },
    {
     "name": "stderr",
     "output_type": "stream",
     "text": [
      "INFO:tensorflow:Assets written to: model_experiements/model_bidirectional/assets\n"
     ]
    },
    {
     "name": "stdout",
     "output_type": "stream",
     "text": [
      "INFO:tensorflow:Assets written to: model_experiements/model_bidirectional/assets\n"
     ]
    },
    {
     "name": "stderr",
     "output_type": "stream",
     "text": [
      "INFO:tensorflow:Assets written to: model_experiements/model_bidirectional/assets\n"
     ]
    },
    {
     "name": "stdout",
     "output_type": "stream",
     "text": [
      "INFO:tensorflow:Assets written to: model_experiements/model_bidirectional/assets\n"
     ]
    },
    {
     "name": "stderr",
     "output_type": "stream",
     "text": [
      "INFO:tensorflow:Assets written to: model_experiements/model_bidirectional/assets\n"
     ]
    },
    {
     "name": "stdout",
     "output_type": "stream",
     "text": [
      "INFO:tensorflow:Assets written to: model_experiements/model_bidirectional/assets\n"
     ]
    },
    {
     "name": "stderr",
     "output_type": "stream",
     "text": [
      "INFO:tensorflow:Assets written to: model_experiements/model_bidirectional/assets\n"
     ]
    }
   ],
   "source": [
    "\n",
    "inputs=layers.Input(shape=(1,))\n",
    "x = layers.Embedding(max_words, embedding_dim, input_length=120)(inputs)\n",
    "x = layers.Bidirectional(layers.LSTM(64, return_sequences=True))(x)\n",
    "x = layers.Dropout(0.5)(x)  # Dropout for regularization\n",
    "x = layers.Bidirectional(layers.LSTM(32))(x)\n",
    "outputs = layers.Dense(len(le.classes_), activation='sigmoid')(x)\n",
    "model = tf.keras.Model(inputs, outputs, name='model_bidirectional')\n",
    "model.compile(loss='categorical_crossentropy', optimizer='adam', metrics=['accuracy'])\n",
    "\n",
    "# Train the model\n",
    "mod_2_hist = model.fit(train_ds, epochs=5, validation_data=val_ds, verbose=0, callbacks=[create_model_checkpoint(model.name)])"
   ],
   "metadata": {
    "collapsed": false,
    "ExecuteTime": {
     "end_time": "2024-01-30T22:44:54.071608Z",
     "start_time": "2024-01-30T22:42:05.436678Z"
    }
   },
   "id": "bc3677cc73298db8",
   "execution_count": 22
  },
  {
   "cell_type": "code",
   "outputs": [
    {
     "name": "stdout",
     "output_type": "stream",
     "text": [
      "63/63 [==============================] - 2s 26ms/step - loss: 0.3357 - accuracy: 0.8715\n"
     ]
    },
    {
     "data": {
      "text/plain": "[0.33569854497909546, 0.8715000152587891]"
     },
     "execution_count": 23,
     "metadata": {},
     "output_type": "execute_result"
    }
   ],
   "source": [
    "model = tf.keras.models.load_model('model_experiements/model_bidirectional')\n",
    "model.evaluate(test_ds)"
   ],
   "metadata": {
    "collapsed": false,
    "ExecuteTime": {
     "end_time": "2024-01-30T22:45:02.510408Z",
     "start_time": "2024-01-30T22:44:57.909438Z"
    }
   },
   "id": "a659fc2e51fc9cef",
   "execution_count": 23
  },
  {
   "cell_type": "code",
   "outputs": [
    {
     "name": "stdout",
     "output_type": "stream",
     "text": [
      "63/63 [==============================] - 2s 21ms/step\n"
     ]
    },
    {
     "data": {
      "text/plain": "{'accuracy': 0.8715,\n 'precision': 0.9811765,\n 'recall': 0.9669565,\n 'f1_score': 0.9740145802497864}"
     },
     "execution_count": 24,
     "metadata": {},
     "output_type": "execute_result"
    }
   ],
   "source": [
    "preds = model.predict(test_padded)\n",
    "preds = tf.cast(tf.argmax(preds, axis=1), tf.float32)\n",
    "mod_2_results = get_model_metrics(test_labels_le, preds)\n",
    "mod_2_results"
   ],
   "metadata": {
    "collapsed": false,
    "ExecuteTime": {
     "end_time": "2024-01-30T22:45:20.759280Z",
     "start_time": "2024-01-30T22:45:18.778207Z"
    }
   },
   "id": "39ccd131183b5373",
   "execution_count": 24
  },
  {
   "cell_type": "code",
   "outputs": [
    {
     "name": "stdout",
     "output_type": "stream",
     "text": [
      "INFO:tensorflow:Assets written to: model_experiements/model_simplified_conv1d/assets\n"
     ]
    },
    {
     "name": "stderr",
     "output_type": "stream",
     "text": [
      "INFO:tensorflow:Assets written to: model_experiements/model_simplified_conv1d/assets\n"
     ]
    },
    {
     "name": "stdout",
     "output_type": "stream",
     "text": [
      "INFO:tensorflow:Assets written to: model_experiements/model_simplified_conv1d/assets\n"
     ]
    },
    {
     "name": "stderr",
     "output_type": "stream",
     "text": [
      "INFO:tensorflow:Assets written to: model_experiements/model_simplified_conv1d/assets\n"
     ]
    },
    {
     "name": "stdout",
     "output_type": "stream",
     "text": [
      "INFO:tensorflow:Assets written to: model_experiements/model_simplified_conv1d/assets\n"
     ]
    },
    {
     "name": "stderr",
     "output_type": "stream",
     "text": [
      "INFO:tensorflow:Assets written to: model_experiements/model_simplified_conv1d/assets\n"
     ]
    },
    {
     "name": "stdout",
     "output_type": "stream",
     "text": [
      "INFO:tensorflow:Assets written to: model_experiements/model_simplified_conv1d/assets\n"
     ]
    },
    {
     "name": "stderr",
     "output_type": "stream",
     "text": [
      "INFO:tensorflow:Assets written to: model_experiements/model_simplified_conv1d/assets\n"
     ]
    },
    {
     "name": "stdout",
     "output_type": "stream",
     "text": [
      "INFO:tensorflow:Assets written to: model_experiements/model_simplified_conv1d/assets\n"
     ]
    },
    {
     "name": "stderr",
     "output_type": "stream",
     "text": [
      "INFO:tensorflow:Assets written to: model_experiements/model_simplified_conv1d/assets\n"
     ]
    }
   ],
   "source": [
    "\n",
    "\n",
    "from tensorflow.keras import regularizers\n",
    "\n",
    "# An example of a simplified model (with one convolutional layer removed)\n",
    "inputs=layers.Input(shape=(120,))\n",
    "x = layers.Embedding(max_words, embedding_dim, input_length=120)(inputs)\n",
    "x = layers.Conv1D(64, 5, activation=\"relu\")(x)\n",
    "x = layers.Dropout(0.5)(x)\n",
    "x = layers.GlobalMaxPooling1D()(x)\n",
    "x = layers.Dropout(0.5)(x)\n",
    "outputs = layers.Dense(len(le.classes_), activation='sigmoid')(x)\n",
    "model = tf.keras.Model(inputs, outputs, name='model_simplified_conv1d')\n",
    "model.compile(loss='categorical_crossentropy', optimizer='adam', metrics=['accuracy'])\n",
    "\n",
    "# Train the model\n",
    "mod_3_hist = model.fit(train_ds, epochs=5, validation_data=val_ds, verbose=0, callbacks=[create_model_checkpoint(model.name)])"
   ],
   "metadata": {
    "collapsed": false,
    "ExecuteTime": {
     "end_time": "2024-01-30T22:46:33.162706Z",
     "start_time": "2024-01-30T22:45:51.780723Z"
    }
   },
   "id": "e99fa84d854f123c",
   "execution_count": 25
  },
  {
   "cell_type": "code",
   "outputs": [
    {
     "name": "stdout",
     "output_type": "stream",
     "text": [
      "63/63 [==============================] - 1s 8ms/step - loss: 0.3324 - accuracy: 0.8715\n"
     ]
    },
    {
     "data": {
      "text/plain": "[0.3323591649532318, 0.8715000152587891]"
     },
     "execution_count": 26,
     "metadata": {},
     "output_type": "execute_result"
    }
   ],
   "source": [
    "model = tf.keras.models.load_model('model_experiements/model_simplified_conv1d')\n",
    "model.evaluate(test_ds)"
   ],
   "metadata": {
    "collapsed": false,
    "ExecuteTime": {
     "end_time": "2024-01-30T22:46:47.517823Z",
     "start_time": "2024-01-30T22:46:46.414790Z"
    }
   },
   "id": "c9f4a3ea448db0a6",
   "execution_count": 26
  },
  {
   "cell_type": "code",
   "outputs": [
    {
     "name": "stdout",
     "output_type": "stream",
     "text": [
      "63/63 [==============================] - 0s 2ms/step\n"
     ]
    },
    {
     "data": {
      "text/plain": "{'accuracy': 0.8715,\n 'precision': 0.9751589,\n 'recall': 0.97855073,\n 'f1_score': 0.9768518209457397}"
     },
     "execution_count": 27,
     "metadata": {},
     "output_type": "execute_result"
    }
   ],
   "source": [
    "preds = model.predict(test_padded)\n",
    "preds = tf.cast(tf.argmax(preds, axis=1), tf.float32)\n",
    "mod_3_results = get_model_metrics(test_labels_le, preds)\n",
    "mod_3_results"
   ],
   "metadata": {
    "collapsed": false,
    "ExecuteTime": {
     "end_time": "2024-01-30T22:47:07.337114Z",
     "start_time": "2024-01-30T22:47:07.130432Z"
    }
   },
   "id": "9171fac17aa1f2c3",
   "execution_count": 27
  },
  {
   "cell_type": "code",
   "outputs": [],
   "source": [
    "# Shared Input Layer\n",
    "\n",
    "from tensorflow.keras import regularizers\n",
    "\n",
    "inputs = layers.Input(shape=(120,))\n",
    "\n",
    "# Branch 1\n",
    "branch1 = layers.Embedding(max_words, embedding_dim, input_length=120)(inputs)\n",
    "branch1 = layers.Conv1D(64, 3, padding='same', activation='relu', kernel_regularizer=regularizers.l2(0.01))(branch1)\n",
    "branch1 = layers.BatchNormalization()(branch1)\n",
    "branch1 = layers.ReLU()(branch1)\n",
    "branch1 = layers.Dropout(0.5)(branch1)\n",
    "branch1 = layers.GlobalMaxPooling1D()(branch1)\n",
    "\n",
    "# Branch 2\n",
    "branch2 = layers.Embedding(max_words, embedding_dim, input_length=120)(inputs)\n",
    "branch2 = layers.Conv1D(64, 3, padding='same', activation='relu', kernel_regularizer=regularizers.l2(0.01))(branch2)\n",
    "branch2 = layers.BatchNormalization()(branch2)\n",
    "branch2 = layers.ReLU()(branch2)\n",
    "branch2 = layers.Dropout(0.5)(branch2)\n",
    "branch2 = layers.GlobalMaxPooling1D()(branch2)\n",
    "\n",
    "# Concatenation and Hidden Layer\n",
    "concatenated = layers.Concatenate()([branch1, branch2])\n",
    "hid_layer = layers.Dense(128, activation='relu', kernel_regularizer=regularizers.l2(0.01))(concatenated)\n",
    "dropout = layers.Dropout(0.5)(hid_layer)\n",
    "\n",
    "# Output Layer\n",
    "output_layer = layers.Dense(6, activation='softmax')(dropout)\n",
    "\n",
    "# Final Model\n",
    "model = tf.keras.Model(inputs, output_layer, name='branch_model')\n",
    "\n",
    "model.compile(loss='categorical_crossentropy', optimizer='adam', metrics=['accuracy'])"
   ],
   "metadata": {
    "collapsed": false,
    "ExecuteTime": {
     "end_time": "2024-01-30T22:47:26.384806Z",
     "start_time": "2024-01-30T22:47:26.305725Z"
    }
   },
   "id": "40b8cf209d521c93",
   "execution_count": 29
  },
  {
   "cell_type": "code",
   "outputs": [
    {
     "name": "stdout",
     "output_type": "stream",
     "text": [
      "INFO:tensorflow:Assets written to: model_experiements/branch_model/assets\n"
     ]
    },
    {
     "name": "stderr",
     "output_type": "stream",
     "text": [
      "INFO:tensorflow:Assets written to: model_experiements/branch_model/assets\n"
     ]
    },
    {
     "name": "stdout",
     "output_type": "stream",
     "text": [
      "INFO:tensorflow:Assets written to: model_experiements/branch_model/assets\n"
     ]
    },
    {
     "name": "stderr",
     "output_type": "stream",
     "text": [
      "INFO:tensorflow:Assets written to: model_experiements/branch_model/assets\n"
     ]
    },
    {
     "name": "stdout",
     "output_type": "stream",
     "text": [
      "INFO:tensorflow:Assets written to: model_experiements/branch_model/assets\n"
     ]
    },
    {
     "name": "stderr",
     "output_type": "stream",
     "text": [
      "INFO:tensorflow:Assets written to: model_experiements/branch_model/assets\n"
     ]
    },
    {
     "name": "stdout",
     "output_type": "stream",
     "text": [
      "INFO:tensorflow:Assets written to: model_experiements/branch_model/assets\n"
     ]
    },
    {
     "name": "stderr",
     "output_type": "stream",
     "text": [
      "INFO:tensorflow:Assets written to: model_experiements/branch_model/assets\n"
     ]
    },
    {
     "name": "stdout",
     "output_type": "stream",
     "text": [
      "INFO:tensorflow:Assets written to: model_experiements/branch_model/assets\n"
     ]
    },
    {
     "name": "stderr",
     "output_type": "stream",
     "text": [
      "INFO:tensorflow:Assets written to: model_experiements/branch_model/assets\n"
     ]
    }
   ],
   "source": [
    "mod_4_hist = model.fit(train_ds, epochs=5, validation_data=val_ds, verbose=0, callbacks=[create_model_checkpoint(model.name)])"
   ],
   "metadata": {
    "collapsed": false,
    "ExecuteTime": {
     "end_time": "2024-01-30T22:49:25.254720Z",
     "start_time": "2024-01-30T22:47:29.639024Z"
    }
   },
   "id": "de6d6d9b60047268",
   "execution_count": 30
  },
  {
   "cell_type": "code",
   "outputs": [
    {
     "name": "stdout",
     "output_type": "stream",
     "text": [
      "63/63 [==============================] - 2s 27ms/step - loss: 0.4798 - accuracy: 0.8665\n"
     ]
    },
    {
     "data": {
      "text/plain": "[0.47978949546813965, 0.8665000200271606]"
     },
     "execution_count": 31,
     "metadata": {},
     "output_type": "execute_result"
    }
   ],
   "source": [
    "model = tf.keras.models.load_model('model_experiements/branch_model')\n",
    "model.evaluate(test_ds)"
   ],
   "metadata": {
    "collapsed": false,
    "ExecuteTime": {
     "end_time": "2024-01-30T22:49:35.866672Z",
     "start_time": "2024-01-30T22:49:33.385526Z"
    }
   },
   "id": "dd48576cb1969d3b",
   "execution_count": 31
  },
  {
   "cell_type": "code",
   "outputs": [
    {
     "name": "stdout",
     "output_type": "stream",
     "text": [
      "63/63 [==============================] - 0s 4ms/step\n"
     ]
    },
    {
     "data": {
      "text/plain": "{'accuracy': 0.8665,\n 'precision': 0.96966225,\n 'recall': 0.98202896,\n 'f1_score': 0.975806474685669}"
     },
     "execution_count": 32,
     "metadata": {},
     "output_type": "execute_result"
    }
   ],
   "source": [
    "preds = model.predict(test_padded)\n",
    "preds = tf.cast(tf.argmax(preds, axis=1), tf.float32)\n",
    "mod_4_results = get_model_metrics(test_labels_le, preds)\n",
    "mod_4_results"
   ],
   "metadata": {
    "collapsed": false,
    "ExecuteTime": {
     "end_time": "2024-01-30T22:49:50.073434Z",
     "start_time": "2024-01-30T22:49:49.626017Z"
    }
   },
   "id": "d1c726df12507e4c",
   "execution_count": 32
  },
  {
   "cell_type": "code",
   "outputs": [
    {
     "data": {
      "text/plain": "                     accuracy  precision    recall  f1_score\nDense Model            0.8545   0.975000  0.972174  0.973585\nBidirectional Model    0.8715   0.981176  0.966956  0.974015\nConv1D Model           0.8715   0.975159  0.978551  0.976852\nBranch Conv1D Model    0.8665   0.969662  0.982029  0.975806",
      "text/html": "<div>\n<style scoped>\n    .dataframe tbody tr th:only-of-type {\n        vertical-align: middle;\n    }\n\n    .dataframe tbody tr th {\n        vertical-align: top;\n    }\n\n    .dataframe thead th {\n        text-align: right;\n    }\n</style>\n<table border=\"1\" class=\"dataframe\">\n  <thead>\n    <tr style=\"text-align: right;\">\n      <th></th>\n      <th>accuracy</th>\n      <th>precision</th>\n      <th>recall</th>\n      <th>f1_score</th>\n    </tr>\n  </thead>\n  <tbody>\n    <tr>\n      <th>Dense Model</th>\n      <td>0.8545</td>\n      <td>0.975000</td>\n      <td>0.972174</td>\n      <td>0.973585</td>\n    </tr>\n    <tr>\n      <th>Bidirectional Model</th>\n      <td>0.8715</td>\n      <td>0.981176</td>\n      <td>0.966956</td>\n      <td>0.974015</td>\n    </tr>\n    <tr>\n      <th>Conv1D Model</th>\n      <td>0.8715</td>\n      <td>0.975159</td>\n      <td>0.978551</td>\n      <td>0.976852</td>\n    </tr>\n    <tr>\n      <th>Branch Conv1D Model</th>\n      <td>0.8665</td>\n      <td>0.969662</td>\n      <td>0.982029</td>\n      <td>0.975806</td>\n    </tr>\n  </tbody>\n</table>\n</div>"
     },
     "execution_count": 33,
     "metadata": {},
     "output_type": "execute_result"
    }
   ],
   "source": [
    "index = ['Dense Model', 'Bidirectional Model', 'Conv1D Model', 'Branch Conv1D Model']\n",
    "results_df = pd.DataFrame([\n",
    "    mod_1_results,\n",
    "    mod_2_results,\n",
    "    mod_3_results,\n",
    "    mod_4_results\n",
    "])\n",
    "\n",
    "results_df.index = index\n",
    "results_df"
   ],
   "metadata": {
    "collapsed": false,
    "ExecuteTime": {
     "end_time": "2024-01-30T22:52:28.173341Z",
     "start_time": "2024-01-30T22:52:28.158935Z"
    }
   },
   "id": "65ae06d21b1c20a2",
   "execution_count": 33
  },
  {
   "cell_type": "code",
   "outputs": [],
   "source": [
    "import matplotlib.pyplot as plt\n",
    "import numpy as np\n",
    "\n",
    "def plot_history(history):\n",
    "    loss = history.history['loss']\n",
    "    val_loss = history.history['val_loss']\n",
    "    accuracy = history.history['accuracy']\n",
    "    val_accuracy = history.history['val_accuracy']\n",
    "\n",
    "    best_epoch = np.argmin(val_loss)  # get the epoch with the lowest validation loss\n",
    "    best_accuracy_epoch = np.argmax(val_accuracy)  # get the epoch with the highest validation accuracy\n",
    "    \n",
    "    # Create a figure\n",
    "    fig, (ax1, ax2) = plt.subplots(nrows=2, sharex=True)  # use two subplots: one for loss and one for accuracy\n",
    "    \n",
    "    # Plot losses\n",
    "    ax1.plot(loss, label='Training Loss')\n",
    "    ax1.plot(val_loss, label='Validation Loss')\n",
    "    ax1.axvline(best_epoch, color='r', linestyle='--', label='Best Epoch')\n",
    "    ax1.legend()\n",
    "    ax1.set_title('Loss Values')\n",
    "\n",
    "    # Plot accuracies\n",
    "    ax2.plot(accuracy, label='Training Accuracy')\n",
    "    ax2.plot(val_accuracy, label='Validation Accuracy')\n",
    "    ax2.axvline(best_accuracy_epoch, color='r', linestyle='--', label='Best Epoch')\n",
    "    ax2.legend()\n",
    "    ax2.set_title('Accuracy Values')\n",
    "    \n",
    "    # Show the figure\n",
    "    plt.xlabel('Epochs')\n",
    "    fig.tight_layout()\n",
    "    plt.show()\n",
    "\n",
    "# Assume you have a history after fit a model\n",
    "# history = model.fit(...)# plot_history(history)"
   ],
   "metadata": {
    "collapsed": false,
    "ExecuteTime": {
     "end_time": "2024-01-30T22:52:58.979369Z",
     "start_time": "2024-01-30T22:52:58.770451Z"
    }
   },
   "id": "4b6352d50bbf74fe",
   "execution_count": 34
  },
  {
   "cell_type": "code",
   "outputs": [
    {
     "data": {
      "text/plain": "<Figure size 640x480 with 2 Axes>",
      "image/png": "[encoded data removed]"
     },
     "metadata": {},
     "output_type": "display_data"
    }
   ],
   "source": [
    "# Dense Model History\n",
    "plot_history(mod_1_hist)"
   ],
   "metadata": {
    "collapsed": false,
    "ExecuteTime": {
     "end_time": "2024-01-30T22:52:59.625220Z",
     "start_time": "2024-01-30T22:52:59.406148Z"
    }
   },
   "id": "7d99bfc9fcb37548",
   "execution_count": 35
  },
  {
   "cell_type": "code",
   "outputs": [
    {
     "data": {
      "text/plain": "<Figure size 640x480 with 2 Axes>",
      "image/png": "[encoded data removed]"
     },
     "metadata": {},
     "output_type": "display_data"
    }
   ],
   "source": [
    "plot_history(mod_2_hist)"
   ],
   "metadata": {
    "collapsed": false,
    "ExecuteTime": {
     "end_time": "2024-01-30T22:53:01.133827Z",
     "start_time": "2024-01-30T22:53:00.986657Z"
    }
   },
   "id": "4dba35969d67ff91",
   "execution_count": 36
  },
  {
   "cell_type": "code",
   "outputs": [
    {
     "data": {
      "text/plain": "<Figure size 640x480 with 2 Axes>",
      "image/png": "[encoded data removed]"
     },
     "metadata": {},
     "output_type": "display_data"
    }
   ],
   "source": [
    "plot_history(mod_3_hist)"
   ],
   "metadata": {
    "collapsed": false,
    "ExecuteTime": {
     "end_time": "2024-01-30T22:53:02.570681Z",
     "start_time": "2024-01-30T22:53:02.427213Z"
    }
   },
   "id": "8881d95946e2e094",
   "execution_count": 37
  },
  {
   "cell_type": "code",
   "outputs": [
    {
     "data": {
      "text/plain": "<Figure size 640x480 with 2 Axes>",
      "image/png": "[encoded data removed]"
     },
     "metadata": {},
     "output_type": "display_data"
    }
   ],
   "source": [
    "plot_history(mod_4_hist)"
   ],
   "metadata": {
    "collapsed": false,
    "ExecuteTime": {
     "end_time": "2024-01-30T22:53:15.815885Z",
     "start_time": "2024-01-30T22:53:15.677277Z"
    }
   },
   "id": "f9709b19473bd35",
   "execution_count": 38
  },
  {
   "cell_type": "code",
   "outputs": [],
   "source": [],
   "metadata": {
    "collapsed": false,
    "ExecuteTime": {
     "end_time": "2024-01-30T18:01:56.439213Z",
     "start_time": "2024-01-30T18:01:56.437126Z"
    }
   },
   "id": "d018e54554f975e6",
   "execution_count": 28
  }
 ],
 "metadata": {
  "kernelspec": {
   "display_name": "Python 3",
   "language": "python",
   "name": "python3"
  },
  "language_info": {
   "codemirror_mode": {
    "name": "ipython",
    "version": 2
   },
   "file_extension": ".py",
   "mimetype": "text/x-python",
   "name": "python",
   "nbconvert_exporter": "python",
   "pygments_lexer": "ipython2",
   "version": "2.7.6"
  }
 },
 "nbformat": 4,
 "nbformat_minor": 5
}
